{
 "cells": [
  {
   "cell_type": "code",
   "execution_count": 1,
   "id": "47dc1705",
   "metadata": {},
   "outputs": [],
   "source": [
    "import pandas as pd, lightgbm as lgb\n",
    "from sklearn.model_selection import train_test_split\n",
    "import numpy as np\n",
    "from catboost import CatBoostRegressor"
   ]
  },
  {
   "cell_type": "code",
   "execution_count": 2,
   "id": "a41680ed",
   "metadata": {},
   "outputs": [],
   "source": [
    "actions = pd.read_csv('actions.csv')\n",
    "triggers = pd.read_csv('triggers.csv')"
   ]
  },
  {
   "cell_type": "code",
   "execution_count": 3,
   "id": "3666e649",
   "metadata": {},
   "outputs": [],
   "source": [
    "triggers = triggers.drop_duplicates()"
   ]
  },
  {
   "cell_type": "code",
   "execution_count": 5,
   "id": "43d945e7",
   "metadata": {},
   "outputs": [
    {
     "name": "stdout",
     "output_type": "stream",
     "text": [
      "<class 'pandas.core.frame.DataFrame'>\n",
      "Index: 37141059 entries, 0 to 43074626\n",
      "Data columns (total 4 columns):\n",
      " #   Column   Dtype \n",
      "---  ------   ----- \n",
      " 0   guid     object\n",
      " 1   date     object\n",
      " 2   trigger  int64 \n",
      " 3   type     int64 \n",
      "dtypes: int64(2), object(2)\n",
      "memory usage: 1.4+ GB\n"
     ]
    }
   ],
   "source": [
    "triggers.info()"
   ]
  },
  {
   "cell_type": "code",
   "execution_count": 6,
   "id": "4c8d7936",
   "metadata": {},
   "outputs": [
    {
     "data": {
      "text/plain": [
       "result\n",
       "0    367066\n",
       "1     11138\n",
       "Name: count, dtype: int64"
      ]
     },
     "execution_count": 6,
     "metadata": {},
     "output_type": "execute_result"
    }
   ],
   "source": [
    "actions['result'].value_counts()"
   ]
  },
  {
   "cell_type": "code",
   "execution_count": 7,
   "id": "7a7d7bd9",
   "metadata": {},
   "outputs": [],
   "source": [
    "actions['date']  = pd.to_datetime(actions['date'])\n",
    "triggers['date'] = pd.to_datetime(triggers['date'])"
   ]
  },
  {
   "cell_type": "code",
   "execution_count": 8,
   "id": "8ba4190a",
   "metadata": {},
   "outputs": [],
   "source": [
    "actions  = actions.sort_values(['date','guid']).reset_index(drop=True)\n",
    "triggers = triggers.sort_values(['date','guid']).reset_index(drop=True)"
   ]
  },
  {
   "cell_type": "code",
   "execution_count": null,
   "id": "79f61792",
   "metadata": {},
   "outputs": [],
   "source": [
    "triggers = triggers.rename(columns={'date':'date_t'})\n",
    "\n",
    "\n",
    "actions  = actions.sort_values('date').reset_index(drop=True)\n",
    "triggers = triggers.sort_values('date_t').reset_index(drop=True)\n",
    "\n",
    "\n",
    "merged = pd.merge_asof(\n",
    "    actions,\n",
    "    triggers,\n",
    "    left_on='date',       \n",
    "    right_on='date_t',    \n",
    "    by='guid',\n",
    "    direction='backward',\n",
    ")\n"
   ]
  },
  {
   "cell_type": "code",
   "execution_count": 11,
   "id": "b1d6e6b7",
   "metadata": {},
   "outputs": [
    {
     "name": "stdout",
     "output_type": "stream",
     "text": [
      "0.90    349.0\n",
      "0.95    401.0\n",
      "0.99    952.0\n",
      "Name: delta_sec, dtype: float64\n"
     ]
    }
   ],
   "source": [
    "merged['delta_sec'] = (merged['date'] - merged['date_t']).dt.total_seconds()\n",
    "percentiles = merged['delta_sec'].quantile([0.90, 0.95, 0.99])\n",
    "print(percentiles)"
   ]
  },
  {
   "cell_type": "code",
   "execution_count": 12,
   "id": "9b95554e",
   "metadata": {},
   "outputs": [],
   "source": [
    "train = pd.merge_asof(\n",
    "    actions,\n",
    "    triggers,\n",
    "    left_on='date',      \n",
    "    right_on='date_t', \n",
    "    by='guid',\n",
    "    direction='backward',\n",
    "    tolerance=pd.Timedelta('7min')\n",
    ")"
   ]
  },
  {
   "cell_type": "code",
   "execution_count": 13,
   "id": "020ab945",
   "metadata": {},
   "outputs": [
    {
     "data": {
      "text/plain": [
       "guid           0\n",
       "date           0\n",
       "result         0\n",
       "date_t     14752\n",
       "trigger    14752\n",
       "type       14752\n",
       "dtype: int64"
      ]
     },
     "execution_count": 13,
     "metadata": {},
     "output_type": "execute_result"
    }
   ],
   "source": [
    "train.isna().sum()"
   ]
  },
  {
   "cell_type": "code",
   "execution_count": 14,
   "id": "af4bd90d",
   "metadata": {},
   "outputs": [],
   "source": [
    "train = train.dropna()\n",
    "train = train.reset_index(drop= True)"
   ]
  },
  {
   "cell_type": "code",
   "execution_count": 15,
   "id": "12d776fd",
   "metadata": {},
   "outputs": [
    {
     "name": "stdout",
     "output_type": "stream",
     "text": [
      "['guid', 'date', 'result', 'date_t', 'trigger', 'type']\n"
     ]
    }
   ],
   "source": [
    "print(train.columns.tolist())"
   ]
  },
  {
   "cell_type": "code",
   "execution_count": 16,
   "id": "f6597445",
   "metadata": {},
   "outputs": [],
   "source": [
    "train['hour']  = train.date.dt.hour\n",
    "train['wday']  = train.date.dt.weekday\n",
    "train['month'] = train.date.dt.month\n",
    "\n",
    "shifted = train.groupby('guid')['result'].shift(fill_value=0)\n",
    "\n",
    "train['user_clicks_cum'] = shifted.groupby(train['guid']).cumsum()\n",
    "train['user_shows_cum'] = train.groupby('guid').cumcount()\n",
    "train['user_ctr'] = train['user_clicks_cum'] / train['user_shows_cum'].replace(0, np.nan)\n"
   ]
  },
  {
   "cell_type": "code",
   "execution_count": 17,
   "id": "36ca01e7",
   "metadata": {},
   "outputs": [
    {
     "data": {
      "text/plain": [
       "0"
      ]
     },
     "execution_count": 17,
     "metadata": {},
     "output_type": "execute_result"
    }
   ],
   "source": [
    "train[train['user_ctr']>1]['user_ctr'].count()\n"
   ]
  },
  {
   "cell_type": "code",
   "execution_count": 18,
   "id": "7c3677f1",
   "metadata": {},
   "outputs": [
    {
     "data": {
      "text/plain": [
       "user_ctr\n",
       "0.0    87760\n",
       "1.0     3048\n",
       "0.5      157\n",
       "Name: count, dtype: int64"
      ]
     },
     "execution_count": 18,
     "metadata": {},
     "output_type": "execute_result"
    }
   ],
   "source": [
    "train['user_ctr'].value_counts(ascending=False)"
   ]
  },
  {
   "cell_type": "code",
   "execution_count": 19,
   "id": "55e7b269",
   "metadata": {},
   "outputs": [],
   "source": [
    "actions['clicks_cum'] = actions.groupby('guid')['result'].cumsum().shift(fill_value=0)\n",
    "actions['shows_cum']  = actions.groupby('guid').cumcount()\n",
    "hist = actions[['guid','date','clicks_cum','shows_cum']].rename(columns={'date': 'date_t'})\n",
    "trig = triggers.sort_values(['guid','date_t']).reset_index(drop=True)"
   ]
  },
  {
   "cell_type": "code",
   "execution_count": 20,
   "id": "a329cefd",
   "metadata": {},
   "outputs": [],
   "source": [
    "trig = trig.drop_duplicates(['guid', 'date_t'])\n",
    "trig = trig.sort_values('date_t').reset_index(drop=True)"
   ]
  },
  {
   "cell_type": "code",
   "execution_count": 21,
   "id": "185083fe",
   "metadata": {},
   "outputs": [
    {
     "name": "stdout",
     "output_type": "stream",
     "text": [
      "Есть ли NaN в date_t: False\n",
      "Есть ли дубликаты: False\n"
     ]
    }
   ],
   "source": [
    "print(\"Есть ли NaN в date_t:\", trig['date_t'].isna().any())\n",
    "print(\"Есть ли дубликаты:\", trig.duplicated(['guid', 'date_t']).any())"
   ]
  },
  {
   "cell_type": "code",
   "execution_count": 22,
   "id": "3ee6431c",
   "metadata": {},
   "outputs": [],
   "source": [
    "assert trig.groupby('guid')['date_t'].apply(lambda x: x.is_monotonic_increasing).all(), \"Даты внутри guid не отсортированы!\""
   ]
  },
  {
   "cell_type": "code",
   "execution_count": null,
   "id": "3f0c9b69",
   "metadata": {},
   "outputs": [],
   "source": [
    "trig = pd.merge_asof(\n",
    "    left=trig,\n",
    "    right=hist,\n",
    "    on='date_t',\n",
    "    by='guid',\n",
    "    direction='backward',\n",
    "    tolerance=pd.Timedelta('365d')  \n",
    ")"
   ]
  },
  {
   "cell_type": "code",
   "execution_count": null,
   "id": "83c745dd",
   "metadata": {},
   "outputs": [],
   "source": [
    "trig['hour']  = trig['date_t'].dt.hour\n",
    "trig['wday']  = trig['date_t'].dt.weekday\n",
    "trig['month'] = trig['date_t'].dt.month\n",
    "trig[['clicks_cum','shows_cum']] = trig[['clicks_cum','shows_cum']].fillna(0)\n",
    "trig['user_ctr'] = trig['clicks_cum'] / trig['shows_cum']\n",
    "trig.loc[trig['shows_cum'] == 0, 'user_ctr'] = 0\n",
    "trig['user_ctr'] = trig['user_ctr'].clip(upper=1.0)"
   ]
  },
  {
   "cell_type": "code",
   "execution_count": 25,
   "id": "03a50b60",
   "metadata": {},
   "outputs": [
    {
     "data": {
      "text/plain": [
       "user_ctr\n",
       "0.0    33103389\n",
       "1.0      218855\n",
       "0.5        1819\n",
       "Name: count, dtype: int64"
      ]
     },
     "execution_count": 25,
     "metadata": {},
     "output_type": "execute_result"
    }
   ],
   "source": [
    "trig['user_ctr'].value_counts()"
   ]
  },
  {
   "cell_type": "code",
   "execution_count": null,
   "id": "2862a8db",
   "metadata": {},
   "outputs": [
    {
     "name": "stdout",
     "output_type": "stream",
     "text": [
      "[100]\tvalid's auc: 0.618115\n",
      "[200]\tvalid's auc: 0.621368\n",
      "[300]\tvalid's auc: 0.627417\n",
      "[400]\tvalid's auc: 0.632339\n",
      "[500]\tvalid's auc: 0.636009\n",
      "[600]\tvalid's auc: 0.640095\n",
      "[700]\tvalid's auc: 0.642877\n",
      "[800]\tvalid's auc: 0.645909\n",
      "[900]\tvalid's auc: 0.64848\n",
      "[1000]\tvalid's auc: 0.651159\n",
      "[1100]\tvalid's auc: 0.653501\n",
      "[1200]\tvalid's auc: 0.655644\n",
      "[1300]\tvalid's auc: 0.657877\n",
      "[1400]\tvalid's auc: 0.659849\n",
      "[1500]\tvalid's auc: 0.661868\n",
      "[1600]\tvalid's auc: 0.663662\n",
      "[1700]\tvalid's auc: 0.665131\n",
      "[1800]\tvalid's auc: 0.666634\n",
      "[1900]\tvalid's auc: 0.668255\n",
      "[2000]\tvalid's auc: 0.669795\n"
     ]
    }
   ],
   "source": [
    "features = ['trigger','type','hour','wday','month','user_ctr']\n",
    "\n",
    "X_train, X_test, y_train, y_test = train_test_split(\n",
    "    train[features], \n",
    "    train['result'],\n",
    "    test_size=0.2,\n",
    "    stratify=train['result'],\n",
    "    random_state=42\n",
    ")\n",
    "\n",
    "dtrain = lgb.Dataset(X_train, y_train)\n",
    "dtest = lgb.Dataset(X_test, y_test)\n",
    "\n",
    "features = ['trigger','type','hour','wday','month','user_ctr']\n",
    "dtrain = lgb.Dataset(train[features], label=train['result'])\n",
    "params = {\n",
    "    'objective': 'binary',\n",
    "    'metric': 'auc',\n",
    "    'learning_rate': 0.01,\n",
    "    'num_leaves': 15,\n",
    "    'scale_pos_weight': 100,  \n",
    "    'reg_alpha': 0.5,\n",
    "    'reg_lambda': 0.5,\n",
    "    'min_child_samples': 100,\n",
    "    'verbosity': -1\n",
    "}\n",
    "model = lgb.train(\n",
    "    params,\n",
    "    dtrain,\n",
    "    num_boost_round=2000,\n",
    "    valid_sets=[dtest],\n",
    "    valid_names=['valid'],\n",
    "    callbacks=[lgb.log_evaluation(100)]\n",
    ")\n"
   ]
  },
  {
   "cell_type": "code",
   "execution_count": 27,
   "id": "b48720da",
   "metadata": {},
   "outputs": [],
   "source": [
    "trig['p_click'] = model.predict(trig[features], num_iteration=model.best_iteration)"
   ]
  },
  {
   "cell_type": "code",
   "execution_count": 32,
   "id": "bd6a5de7",
   "metadata": {},
   "outputs": [],
   "source": [
    "trig = trig.sort_values(['guid','date_t'])\n",
    "trig['days_since_last'] = (trig.date_t - trig.groupby('guid')['date_t'].shift()).dt.days\n",
    "mask_14d = (trig['days_since_last'] >= 14) | trig['days_since_last'].isna()\n",
    "candidates = trig[mask_14d]"
   ]
  },
  {
   "cell_type": "code",
   "execution_count": 33,
   "id": "00bce7ad",
   "metadata": {},
   "outputs": [],
   "source": [
    "candidates = candidates.sort_values('p_click', ascending=False)"
   ]
  },
  {
   "cell_type": "code",
   "execution_count": null,
   "id": "fb4b86d7",
   "metadata": {},
   "outputs": [],
   "source": [
    "selected = []\n",
    "balance = 0\n",
    "for _, row in candidates.iterrows():\n",
    "    exp_profit = 5*row.p_click - 1\n",
    "    if balance + exp_profit < 0:      \n",
    "        break\n",
    "    balance += exp_profit\n",
    "    selected.append(row)\n",
    "\n"
   ]
  },
  {
   "cell_type": "code",
   "execution_count": 36,
   "id": "e28f1aa3",
   "metadata": {},
   "outputs": [
    {
     "name": "stdout",
     "output_type": "stream",
     "text": [
      "Ожидаемый оборот: 3634473 $; ожидаемый баланс: 2538724.4 $\n"
     ]
    }
   ],
   "source": [
    "plan = pd.DataFrame(selected)[['guid','date_t','p_click']]\n",
    "plan.to_csv('banner_plan.csv', index=False)\n",
    "print(f'Ожидаемый оборот: {5*plan.p_click.sum():.0f} $; ожидаемый баланс: {balance:.1f} $')"
   ]
  }
 ],
 "metadata": {
  "kernelspec": {
   "display_name": "Python 3",
   "language": "python",
   "name": "python3"
  },
  "language_info": {
   "codemirror_mode": {
    "name": "ipython",
    "version": 3
   },
   "file_extension": ".py",
   "mimetype": "text/x-python",
   "name": "python",
   "nbconvert_exporter": "python",
   "pygments_lexer": "ipython3",
   "version": "3.8.10"
  }
 },
 "nbformat": 4,
 "nbformat_minor": 5
}
